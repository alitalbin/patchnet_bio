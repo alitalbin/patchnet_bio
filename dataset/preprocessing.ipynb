{
 "cells": [
  {
   "cell_type": "code",
   "execution_count": 1,
   "metadata": {},
   "outputs": [],
   "source": [
    "import pandas as pd\n",
    "import os"
   ]
  },
  {
   "cell_type": "code",
   "execution_count": 3,
   "metadata": {},
   "outputs": [
    {
     "name": "stdout",
     "output_type": "stream",
     "text": [
      "10\n"
     ]
    }
   ],
   "source": [
    "n, s = map(int, input().split())\n",
    "prices = list(map(int, input().split()))\n",
    "\n",
    "# Находим максимальную цену, которую ковбой Джо может себе позволить\n",
    "max_affordable_price = max([price for price in prices if price <= s], default=0)\n",
    "\n",
    "print(max_affordable_price)"
   ]
  },
  {
   "cell_type": "code",
   "execution_count": 9,
   "metadata": {},
   "outputs": [
    {
     "name": "stdout",
     "output_type": "stream",
     "text": [
      "['s', 'h', 'e', 'r', 'i', 'f']\n"
     ]
    }
   ],
   "source": [
    "word = [w for w in \"sheriff\"][:-1]\n",
    "print(word)"
   ]
  },
  {
   "cell_type": "code",
   "execution_count": 14,
   "metadata": {},
   "outputs": [
    {
     "name": "stdout",
     "output_type": "stream",
     "text": [
      "fheriherffazfszkisrrs [3, 2, 2, 4, 2, 4]\n",
      "fheriherffazfszkisrrs [3, 2, 2, 4, 2, 2.0]\n",
      "2\n"
     ]
    }
   ],
   "source": [
    "word = [w for w in \"sheriff\"][:-1]\n",
    "string_ = input()\n",
    "letter_count = []\n",
    "for w in word:\n",
    "    d = 0\n",
    "    for s in string_:\n",
    "        if w == s:\n",
    "            d = d +1\n",
    "        else: pass\n",
    "    letter_count.append(d)\n",
    "\n",
    "print(string_, letter_count)\n",
    "letter_count[-1] = letter_count[-1]  / 2\n",
    "print(string_, letter_count)\n",
    "print(min(letter_count))\n"
   ]
  },
  {
   "cell_type": "code",
   "execution_count": 42,
   "metadata": {},
   "outputs": [
    {
     "name": "stdout",
     "output_type": "stream",
     "text": [
      "3\n",
      "1 2 2\n"
     ]
    }
   ],
   "source": [
    "n, m = map(int, input().split())\n",
    "nominations = list(map(int, input().split()))\n",
    "nominations.sort(reverse=True)\n",
    "\n",
    "result = []\n",
    "amount_left = n\n",
    "\n",
    "for nom in nominations:\n",
    "    count = min(amount_left // nom, 2)\n",
    "    \n",
    "    if count > 0:\n",
    "        result.extend([nom] * count)\n",
    "        amount_left -= count * nom\n",
    "\n",
    "if amount_left == 0:\n",
    "    result.sort(reverse=False)\n",
    "    print(len(result))\n",
    "    print(\" \".join(map(str, result)))\n",
    "else:\n",
    "    print(-1)\n"
   ]
  },
  {
   "cell_type": "code",
   "execution_count": null,
   "metadata": {},
   "outputs": [],
   "source": []
  },
  {
   "cell_type": "code",
   "execution_count": 26,
   "metadata": {},
   "outputs": [
    {
     "name": "stdout",
     "output_type": "stream",
     "text": [
      "1\n",
      "1\n"
     ]
    }
   ],
   "source": [
    "# n, m = map(int, input().split())\n",
    "# nominations = sorted(list(set(map(int, input().split()))))  # Удаляем дубликаты и сортируем номиналы\n",
    "n = 5\n",
    "m = 2\n",
    "nominations = [1,2]\n",
    "\n",
    "# Создаем массив, в котором будем хранить количество купюр каждого номинала\n",
    "#counts = [0] * len(nominations)\n",
    "counts = [2,2]\n",
    "# Функция, которая проверяет, можно ли украсть сумму n с использованием купюр\n",
    "def can_steal(amount, index):\n",
    "    if amount == 0:\n",
    "        return True\n",
    "    if amount < 0 or index < 0:\n",
    "        return False\n",
    "    if counts[index] > 0 and can_steal(amount - nominations[index], index):\n",
    "        counts[index] -= 1\n",
    "        return True\n",
    "    return can_steal(amount, index - 1)\n",
    "\n",
    "if can_steal(n, len(nominations) -1 ):\n",
    "    stolen = []\n",
    "    for i in range(len(nominations) - 1):\n",
    "        while n >= nominations[i] and counts[i] > 0:\n",
    "            stolen.append(nominations[i])\n",
    "            n -= nominations[i]\n",
    "            counts[i] -= 1\n",
    "    print(len(stolen))\n",
    "    print(\" \".join(map(str, stolen)))\n",
    "else:\n",
    "    print(-1)\n"
   ]
  },
  {
   "cell_type": "code",
   "execution_count": 30,
   "metadata": {},
   "outputs": [
    {
     "name": "stdout",
     "output_type": "stream",
     "text": [
      "NO\n"
     ]
    }
   ],
   "source": [
    "n = int(input())\n",
    "seq_ = list(map(int, input().split()))\n",
    "win_seq = list(map(int, input().split()))\n",
    "l_id = 0\n",
    "r_id = n - 1\n",
    "\n",
    "while l_id < n and seq_[l_id] == win_seq[l_id]:\n",
    "    l_id += 1\n",
    "\n",
    "while r_id >= 0 and seq_[r_id] == win_seq[r_id]:\n",
    "    r_id -= 1\n",
    "\n",
    "if l_id <= r_id and sorted(seq_[l_id:r_id + 1]) == win_seq[l_id:r_id + 1]:\n",
    "    print(\"YES\")\n",
    "else:\n",
    "    print(\"NO\")\n"
   ]
  },
  {
   "cell_type": "code",
   "execution_count": null,
   "metadata": {},
   "outputs": [],
   "source": [
    "2 2 \n",
    "1 2 6 \n",
    "2 1 9"
   ]
  },
  {
   "cell_type": "code",
   "execution_count": 43,
   "metadata": {},
   "outputs": [
    {
     "ename": "TypeError",
     "evalue": "'<=' not supported between instances of 'int' and 'tuple'",
     "output_type": "error",
     "traceback": [
      "\u001b[1;31m---------------------------------------------------------------------------\u001b[0m",
      "\u001b[1;31mTypeError\u001b[0m                                 Traceback (most recent call last)",
      "\u001b[1;32m~\\AppData\\Local\\Temp/ipykernel_15988/1319131566.py\u001b[0m in \u001b[0;36m<module>\u001b[1;34m\u001b[0m\n\u001b[0;32m     38\u001b[0m     \u001b[0mgraph\u001b[0m\u001b[1;33m[\u001b[0m\u001b[0mu\u001b[0m \u001b[1;33m-\u001b[0m \u001b[1;36m1\u001b[0m\u001b[1;33m]\u001b[0m\u001b[1;33m.\u001b[0m\u001b[0mappend\u001b[0m\u001b[1;33m(\u001b[0m\u001b[1;33m(\u001b[0m\u001b[0mv\u001b[0m \u001b[1;33m-\u001b[0m \u001b[1;36m1\u001b[0m\u001b[1;33m,\u001b[0m \u001b[0mw\u001b[0m\u001b[1;33m)\u001b[0m\u001b[1;33m)\u001b[0m\u001b[1;33m\u001b[0m\u001b[1;33m\u001b[0m\u001b[0m\n\u001b[0;32m     39\u001b[0m \u001b[1;33m\u001b[0m\u001b[0m\n\u001b[1;32m---> 40\u001b[1;33m \u001b[0mresult\u001b[0m \u001b[1;33m=\u001b[0m \u001b[0mbinary_search\u001b[0m\u001b[1;33m(\u001b[0m\u001b[0mgraph\u001b[0m\u001b[1;33m,\u001b[0m \u001b[0mn\u001b[0m\u001b[1;33m,\u001b[0m \u001b[0mm\u001b[0m\u001b[1;33m)\u001b[0m\u001b[1;33m\u001b[0m\u001b[1;33m\u001b[0m\u001b[0m\n\u001b[0m\u001b[0;32m     41\u001b[0m \u001b[0mprint\u001b[0m\u001b[1;33m(\u001b[0m\u001b[0mresult\u001b[0m\u001b[1;33m)\u001b[0m\u001b[1;33m\u001b[0m\u001b[1;33m\u001b[0m\u001b[0m\n",
      "\u001b[1;32m~\\AppData\\Local\\Temp/ipykernel_15988/1319131566.py\u001b[0m in \u001b[0;36mbinary_search\u001b[1;34m(graph, n, m)\u001b[0m\n\u001b[0;32m     20\u001b[0m     \u001b[0mresult\u001b[0m \u001b[1;33m=\u001b[0m \u001b[1;33m-\u001b[0m\u001b[1;36m1\u001b[0m\u001b[1;33m\u001b[0m\u001b[1;33m\u001b[0m\u001b[0m\n\u001b[0;32m     21\u001b[0m \u001b[1;33m\u001b[0m\u001b[0m\n\u001b[1;32m---> 22\u001b[1;33m     \u001b[1;32mwhile\u001b[0m \u001b[0mleft\u001b[0m \u001b[1;33m<=\u001b[0m \u001b[0mright\u001b[0m\u001b[1;33m:\u001b[0m\u001b[1;33m\u001b[0m\u001b[1;33m\u001b[0m\u001b[0m\n\u001b[0m\u001b[0;32m     23\u001b[0m         \u001b[0mmid\u001b[0m \u001b[1;33m=\u001b[0m \u001b[1;33m(\u001b[0m\u001b[0mleft\u001b[0m \u001b[1;33m+\u001b[0m \u001b[0mright\u001b[0m\u001b[1;33m)\u001b[0m \u001b[1;33m//\u001b[0m \u001b[1;36m2\u001b[0m\u001b[1;33m\u001b[0m\u001b[1;33m\u001b[0m\u001b[0m\n\u001b[0;32m     24\u001b[0m         \u001b[1;32mif\u001b[0m \u001b[0mcan_maintain_states\u001b[0m\u001b[1;33m(\u001b[0m\u001b[0mgraph\u001b[0m\u001b[1;33m,\u001b[0m \u001b[0mmid\u001b[0m\u001b[1;33m,\u001b[0m \u001b[0mn\u001b[0m\u001b[1;33m)\u001b[0m\u001b[1;33m:\u001b[0m\u001b[1;33m\u001b[0m\u001b[1;33m\u001b[0m\u001b[0m\n",
      "\u001b[1;31mTypeError\u001b[0m: '<=' not supported between instances of 'int' and 'tuple'"
     ]
    }
   ],
   "source": [
    "def can_maintain_states(graph, x, n):\n",
    "    visited = [False] * n\n",
    "    states = 0\n",
    "\n",
    "    def dfs(node):\n",
    "        visited[node] = True\n",
    "        for neighbor, length in graph[node]:\n",
    "            if not visited[neighbor] and length > x:\n",
    "                dfs(neighbor)\n",
    "\n",
    "    for node in range(n):\n",
    "        if not visited[node]:\n",
    "            states += 1\n",
    "            dfs(node)\n",
    "\n",
    "    return states == 1  # Если количество штатов равно 1, условие выполняется\n",
    "\n",
    "def binary_search(graph, n, m):\n",
    "    left, right = 0, max(graph, key=lambda x: x[1])[1]\n",
    "    result = -1\n",
    "\n",
    "    while left <= right:\n",
    "        mid = (left + right) // 2\n",
    "        if can_maintain_states(graph, mid, n):\n",
    "            result = mid\n",
    "            right = mid - 1\n",
    "        else:\n",
    "            left = mid + 1\n",
    "\n",
    "    return result\n",
    "\n",
    "n, m = map(int, input().split())\n",
    "graph = [[] for _ in range(n)]\n",
    "\n",
    "for _ in range(m):\n",
    "    v, u, w = map(int, input().split())\n",
    "    graph[v - 1].append((u - 1, w))\n",
    "    graph[u - 1].append((v - 1, w))\n",
    "\n",
    "result = binary_search(graph, n, m)\n",
    "print(result)\n"
   ]
  },
  {
   "cell_type": "code",
   "execution_count": 51,
   "metadata": {},
   "outputs": [
    {
     "ename": "TypeError",
     "evalue": "'int' object is not iterable",
     "output_type": "error",
     "traceback": [
      "\u001b[1;31m---------------------------------------------------------------------------\u001b[0m",
      "\u001b[1;31mTypeError\u001b[0m                                 Traceback (most recent call last)",
      "\u001b[1;32m~\\AppData\\Local\\Temp/ipykernel_15988/2444095420.py\u001b[0m in \u001b[0;36m<module>\u001b[1;34m\u001b[0m\n\u001b[0;32m     38\u001b[0m     \u001b[0mgraph\u001b[0m\u001b[1;33m[\u001b[0m\u001b[0mu\u001b[0m \u001b[1;33m-\u001b[0m \u001b[1;36m1\u001b[0m\u001b[1;33m]\u001b[0m\u001b[1;33m.\u001b[0m\u001b[0mappend\u001b[0m\u001b[1;33m(\u001b[0m\u001b[0mw\u001b[0m\u001b[1;33m)\u001b[0m\u001b[1;33m\u001b[0m\u001b[1;33m\u001b[0m\u001b[0m\n\u001b[0;32m     39\u001b[0m \u001b[1;33m\u001b[0m\u001b[0m\n\u001b[1;32m---> 40\u001b[1;33m \u001b[0mx\u001b[0m \u001b[1;33m=\u001b[0m \u001b[0mfind_x\u001b[0m\u001b[1;33m(\u001b[0m\u001b[0mgraph\u001b[0m\u001b[1;33m,\u001b[0m \u001b[0mn\u001b[0m\u001b[1;33m,\u001b[0m \u001b[0mm\u001b[0m\u001b[1;33m)\u001b[0m\u001b[1;33m\u001b[0m\u001b[1;33m\u001b[0m\u001b[0m\n\u001b[0m\u001b[0;32m     41\u001b[0m \u001b[0mprint\u001b[0m\u001b[1;33m(\u001b[0m\u001b[0mx\u001b[0m\u001b[1;33m)\u001b[0m\u001b[1;33m\u001b[0m\u001b[1;33m\u001b[0m\u001b[0m\n",
      "\u001b[1;32m~\\AppData\\Local\\Temp/ipykernel_15988/2444095420.py\u001b[0m in \u001b[0;36mfind_x\u001b[1;34m(graph, n, m)\u001b[0m\n\u001b[0;32m     17\u001b[0m \u001b[1;33m\u001b[0m\u001b[0m\n\u001b[0;32m     18\u001b[0m \u001b[1;32mdef\u001b[0m \u001b[0mfind_x\u001b[0m\u001b[1;33m(\u001b[0m\u001b[0mgraph\u001b[0m\u001b[1;33m,\u001b[0m \u001b[0mn\u001b[0m\u001b[1;33m,\u001b[0m \u001b[0mm\u001b[0m\u001b[1;33m)\u001b[0m\u001b[1;33m:\u001b[0m\u001b[1;33m\u001b[0m\u001b[1;33m\u001b[0m\u001b[0m\n\u001b[1;32m---> 19\u001b[1;33m     \u001b[0mleft\u001b[0m\u001b[1;33m,\u001b[0m \u001b[0mright\u001b[0m \u001b[1;33m=\u001b[0m \u001b[1;36m0\u001b[0m\u001b[1;33m,\u001b[0m \u001b[0mmax\u001b[0m\u001b[1;33m(\u001b[0m\u001b[0mmax\u001b[0m\u001b[1;33m(\u001b[0m\u001b[0medge\u001b[0m\u001b[1;33m[\u001b[0m\u001b[1;36m1\u001b[0m\u001b[1;33m]\u001b[0m \u001b[1;32mfor\u001b[0m \u001b[0medge\u001b[0m \u001b[1;32min\u001b[0m \u001b[0mgraph\u001b[0m\u001b[1;33m)\u001b[0m\u001b[1;33m)\u001b[0m\u001b[1;33m\u001b[0m\u001b[1;33m\u001b[0m\u001b[0m\n\u001b[0m\u001b[0;32m     20\u001b[0m     \u001b[0mresult\u001b[0m \u001b[1;33m=\u001b[0m \u001b[1;33m-\u001b[0m\u001b[1;36m1\u001b[0m\u001b[1;33m\u001b[0m\u001b[1;33m\u001b[0m\u001b[0m\n\u001b[0;32m     21\u001b[0m \u001b[1;33m\u001b[0m\u001b[0m\n",
      "\u001b[1;31mTypeError\u001b[0m: 'int' object is not iterable"
     ]
    }
   ],
   "source": [
    "def is_possible(graph, x, n):\n",
    "    visited = [False] * n\n",
    "    num_states = 0\n",
    "\n",
    "    def dfs(node):\n",
    "        visited[node] = True\n",
    "        for neighbor in graph[node]:\n",
    "            if not visited[neighbor] and neighbor <= x:\n",
    "                dfs(neighbor)\n",
    "\n",
    "    for i in range(n):\n",
    "        if not visited[i]:\n",
    "            num_states += 1\n",
    "            dfs(i)\n",
    "\n",
    "    return num_states\n",
    "\n",
    "def find_x(graph, n, m):\n",
    "    left, right = 0, max(max(edge[1] for edge in graph))\n",
    "    result = -1\n",
    "\n",
    "    while left <= right:\n",
    "        mid = (left + right) // 2\n",
    "        if is_possible(graph, mid, n) == 1:  # Измените это значение на необходимое количество штатов\n",
    "            result = mid\n",
    "            right = mid - 1\n",
    "        else:\n",
    "            left = mid + 1\n",
    "\n",
    "    return result\n",
    "\n",
    "n, m = map(int, input().split())\n",
    "graph = [[] for _ in range(n)]\n",
    "\n",
    "for _ in range(m):\n",
    "    v, u, w = map(int, input().split())\n",
    "    graph[v - 1].append(w)\n",
    "    graph[u - 1].append(w)\n",
    "\n",
    "x = find_x(graph, n, m)\n",
    "print(x)\n"
   ]
  },
  {
   "cell_type": "code",
   "execution_count": 31,
   "metadata": {},
   "outputs": [
    {
     "name": "stdout",
     "output_type": "stream",
     "text": [
      "1\n"
     ]
    }
   ],
   "source": [
    "def count_states(graph, max_length):\n",
    "    visited = [False] * len(graph)\n",
    "    states = 0\n",
    "\n",
    "    def dfs(node):\n",
    "        visited[node] = True\n",
    "        for neighbor, length in graph[node]:\n",
    "            if not visited[neighbor] and length <= max_length:\n",
    "                dfs(neighbor)\n",
    "\n",
    "\n",
    "    for node in range(len(graph)):\n",
    "        if not visited[node]:\n",
    "            states += 1\n",
    "            dfs(node)\n",
    "\n",
    "    return states\n",
    "\n",
    "def binary_search(graph, n, max_length):\n",
    "    left, right = 1, max_length\n",
    "    result = -1\n",
    "\n",
    "    while left <= right:\n",
    "        mid = (left + right) // 2\n",
    "        states = count_states(graph, mid)\n",
    "\n",
    "        if states == n:\n",
    "            result = mid\n",
    "            right = mid - 1\n",
    "        elif states < n:\n",
    "            right = mid - 1\n",
    "        else:\n",
    "            left = mid + 1\n",
    "\n",
    "    return result\n",
    "\n",
    "n, m = 2, 2\n",
    "graph = [[] for _ in range(n)]\n",
    "max_length = 0\n",
    "\n",
    "for _ in range(m):\n",
    "    v, u, w = map(int, input().split())\n",
    "    graph[v - 1].append((u - 1, w))\n",
    "    graph[u - 1].append((v - 1, w))\n",
    "    max_length = max(max_length, w)\n",
    "\n",
    "result = binary_search(graph, n, max_length)\n",
    "print(result)\n"
   ]
  },
  {
   "cell_type": "code",
   "execution_count": 27,
   "metadata": {},
   "outputs": [
    {
     "data": {
      "text/plain": [
       "[1]"
      ]
     },
     "execution_count": 27,
     "metadata": {},
     "output_type": "execute_result"
    }
   ],
   "source": [
    "stolen"
   ]
  },
  {
   "cell_type": "code",
   "execution_count": 20,
   "metadata": {},
   "outputs": [
    {
     "data": {
      "text/plain": [
       "[0, 0]"
      ]
     },
     "execution_count": 20,
     "metadata": {},
     "output_type": "execute_result"
    }
   ],
   "source": [
    "counts"
   ]
  },
  {
   "cell_type": "code",
   "execution_count": 18,
   "metadata": {},
   "outputs": [
    {
     "data": {
      "text/plain": [
       "[1, 2]"
      ]
     },
     "execution_count": 18,
     "metadata": {},
     "output_type": "execute_result"
    }
   ],
   "source": [
    "nominations"
   ]
  },
  {
   "cell_type": "code",
   "execution_count": 11,
   "metadata": {},
   "outputs": [
    {
     "data": {
      "text/plain": [
       "[3, 2, 2, 4, 2, 4]"
      ]
     },
     "execution_count": 11,
     "metadata": {},
     "output_type": "execute_result"
    }
   ],
   "source": [
    "letter_count"
   ]
  },
  {
   "cell_type": "code",
   "execution_count": 19,
   "metadata": {},
   "outputs": [],
   "source": [
    "# Specify the directory path you want to list files from\n",
    "folder_path = 'C:/Users/alitu/Desktop/biometric/Implementation-patchnet/dataset/train/live'\n",
    "\n",
    "# Get a list of all files in the folder\n",
    "file_names = os.listdir(folder_path)\n",
    "df = pd.DataFrame(file_names, columns=['image_name'])\n",
    "df['label'] = 1.0"
   ]
  },
  {
   "cell_type": "code",
   "execution_count": 21,
   "metadata": {},
   "outputs": [],
   "source": [
    "# Specify the directory path you want to list files from\n",
    "folder_path = 'C:/Users/alitu/Desktop/biometric/Implementation-patchnet/dataset/train/spoof'\n",
    "\n",
    "# Get a list of all files in the folder\n",
    "file_names = os.listdir(folder_path)"
   ]
  },
  {
   "cell_type": "code",
   "execution_count": 22,
   "metadata": {},
   "outputs": [],
   "source": [
    "df_ = pd.DataFrame(file_names, columns=['image_name'])\n",
    "df_['label'] = 0.0"
   ]
  },
  {
   "cell_type": "code",
   "execution_count": 25,
   "metadata": {},
   "outputs": [],
   "source": [
    "df = df.append(df_)"
   ]
  },
  {
   "cell_type": "code",
   "execution_count": 29,
   "metadata": {},
   "outputs": [],
   "source": [
    "df.to_csv('train.csv')"
   ]
  },
  {
   "cell_type": "code",
   "execution_count": 28,
   "metadata": {},
   "outputs": [
    {
     "data": {
      "text/html": [
       "<div>\n",
       "<style scoped>\n",
       "    .dataframe tbody tr th:only-of-type {\n",
       "        vertical-align: middle;\n",
       "    }\n",
       "\n",
       "    .dataframe tbody tr th {\n",
       "        vertical-align: top;\n",
       "    }\n",
       "\n",
       "    .dataframe thead th {\n",
       "        text-align: right;\n",
       "    }\n",
       "</style>\n",
       "<table border=\"1\" class=\"dataframe\">\n",
       "  <thead>\n",
       "    <tr style=\"text-align: right;\">\n",
       "      <th></th>\n",
       "      <th>image_name</th>\n",
       "      <th>label</th>\n",
       "    </tr>\n",
       "  </thead>\n",
       "  <tbody>\n",
       "  </tbody>\n",
       "</table>\n",
       "</div>"
      ],
      "text/plain": [
       "Empty DataFrame\n",
       "Columns: [image_name, label]\n",
       "Index: []"
      ]
     },
     "execution_count": 28,
     "metadata": {},
     "output_type": "execute_result"
    }
   ],
   "source": [
    "df[df.duplicated(subset = ['image_name'])]"
   ]
  },
  {
   "cell_type": "code",
   "execution_count": 30,
   "metadata": {},
   "outputs": [],
   "source": [
    "folder_path = 'C:/Users/alitu/Desktop/biometric/Implementation-patchnet/dataset/test/live'\n",
    "file_names = os.listdir(folder_path)\n",
    "df_test = pd.DataFrame(file_names, columns=['image_name'])\n",
    "df_test['label'] = 1.0\n",
    "folder_path = 'C:/Users/alitu/Desktop/biometric/Implementation-patchnet/dataset/test/spoof'\n",
    "file_names = os.listdir(folder_path)\n",
    "df_test_ = pd.DataFrame(file_names, columns=['image_name'])\n",
    "df_test_['label'] = 0.0\n",
    "df_test = df_test.append(df_test_)"
   ]
  },
  {
   "cell_type": "code",
   "execution_count": 33,
   "metadata": {},
   "outputs": [],
   "source": [
    "df_test.to_csv('test.csv')"
   ]
  },
  {
   "cell_type": "code",
   "execution_count": 34,
   "metadata": {},
   "outputs": [],
   "source": [
    "folder_path = 'C:/Users/alitu/Desktop/biometric/Implementation-patchnet/dataset/val/live'\n",
    "file_names = os.listdir(folder_path)\n",
    "df_val = pd.DataFrame(file_names, columns=['image_name'])\n",
    "df_val['label'] = 1.0\n",
    "folder_path = 'C:/Users/alitu/Desktop/biometric/Implementation-patchnet/dataset/val/spoof'\n",
    "file_names = os.listdir(folder_path)\n",
    "df_val_ = pd.DataFrame(file_names, columns=['image_name'])\n",
    "df_val_['label'] = 0.0\n",
    "df_val = df_val.append(df_val_)"
   ]
  },
  {
   "cell_type": "code",
   "execution_count": 36,
   "metadata": {},
   "outputs": [],
   "source": [
    "df_val.to_csv('val.csv')"
   ]
  },
  {
   "cell_type": "code",
   "execution_count": 10,
   "metadata": {},
   "outputs": [],
   "source": [
    "df = pd.read_csv(\"C:\\\\Users\\\\alitu\\\\Desktop\\\\biometric\\\\Implementation-patchnet\\\\training_metrics.csv\")"
   ]
  },
  {
   "cell_type": "code",
   "execution_count": 11,
   "metadata": {},
   "outputs": [
    {
     "data": {
      "text/html": [
       "<div>\n",
       "<style scoped>\n",
       "    .dataframe tbody tr th:only-of-type {\n",
       "        vertical-align: middle;\n",
       "    }\n",
       "\n",
       "    .dataframe tbody tr th {\n",
       "        vertical-align: top;\n",
       "    }\n",
       "\n",
       "    .dataframe thead th {\n",
       "        text-align: right;\n",
       "    }\n",
       "</style>\n",
       "<table border=\"1\" class=\"dataframe\">\n",
       "  <thead>\n",
       "    <tr style=\"text-align: right;\">\n",
       "      <th></th>\n",
       "      <th>epoch</th>\n",
       "      <th>train_loss</th>\n",
       "      <th>train_acc</th>\n",
       "      <th>val_loss</th>\n",
       "      <th>val_acc</th>\n",
       "    </tr>\n",
       "  </thead>\n",
       "  <tbody>\n",
       "    <tr>\n",
       "      <th>0</th>\n",
       "      <td>0</td>\n",
       "      <td>14.642404</td>\n",
       "      <td>0.551111</td>\n",
       "      <td>14.713888</td>\n",
       "      <td>0.514286</td>\n",
       "    </tr>\n",
       "    <tr>\n",
       "      <th>1</th>\n",
       "      <td>1</td>\n",
       "      <td>11.284529</td>\n",
       "      <td>0.660000</td>\n",
       "      <td>13.855291</td>\n",
       "      <td>0.595238</td>\n",
       "    </tr>\n",
       "    <tr>\n",
       "      <th>2</th>\n",
       "      <td>2</td>\n",
       "      <td>11.302472</td>\n",
       "      <td>0.660000</td>\n",
       "      <td>11.780182</td>\n",
       "      <td>0.638095</td>\n",
       "    </tr>\n",
       "    <tr>\n",
       "      <th>3</th>\n",
       "      <td>3</td>\n",
       "      <td>11.126473</td>\n",
       "      <td>0.648889</td>\n",
       "      <td>12.691539</td>\n",
       "      <td>0.619048</td>\n",
       "    </tr>\n",
       "    <tr>\n",
       "      <th>4</th>\n",
       "      <td>4</td>\n",
       "      <td>9.571818</td>\n",
       "      <td>0.686667</td>\n",
       "      <td>14.511903</td>\n",
       "      <td>0.604762</td>\n",
       "    </tr>\n",
       "    <tr>\n",
       "      <th>...</th>\n",
       "      <td>...</td>\n",
       "      <td>...</td>\n",
       "      <td>...</td>\n",
       "      <td>...</td>\n",
       "      <td>...</td>\n",
       "    </tr>\n",
       "    <tr>\n",
       "      <th>95</th>\n",
       "      <td>95</td>\n",
       "      <td>1.246070</td>\n",
       "      <td>0.964444</td>\n",
       "      <td>6.192237</td>\n",
       "      <td>0.847619</td>\n",
       "    </tr>\n",
       "    <tr>\n",
       "      <th>96</th>\n",
       "      <td>96</td>\n",
       "      <td>1.160803</td>\n",
       "      <td>0.973333</td>\n",
       "      <td>6.449616</td>\n",
       "      <td>0.847619</td>\n",
       "    </tr>\n",
       "    <tr>\n",
       "      <th>97</th>\n",
       "      <td>97</td>\n",
       "      <td>1.928639</td>\n",
       "      <td>0.942222</td>\n",
       "      <td>13.643195</td>\n",
       "      <td>0.695238</td>\n",
       "    </tr>\n",
       "    <tr>\n",
       "      <th>98</th>\n",
       "      <td>98</td>\n",
       "      <td>1.235776</td>\n",
       "      <td>0.955556</td>\n",
       "      <td>4.318785</td>\n",
       "      <td>0.880952</td>\n",
       "    </tr>\n",
       "    <tr>\n",
       "      <th>99</th>\n",
       "      <td>99</td>\n",
       "      <td>0.824093</td>\n",
       "      <td>0.973333</td>\n",
       "      <td>3.701749</td>\n",
       "      <td>0.904762</td>\n",
       "    </tr>\n",
       "  </tbody>\n",
       "</table>\n",
       "<p>100 rows × 5 columns</p>\n",
       "</div>"
      ],
      "text/plain": [
       "    epoch  train_loss  train_acc   val_loss   val_acc\n",
       "0       0   14.642404   0.551111  14.713888  0.514286\n",
       "1       1   11.284529   0.660000  13.855291  0.595238\n",
       "2       2   11.302472   0.660000  11.780182  0.638095\n",
       "3       3   11.126473   0.648889  12.691539  0.619048\n",
       "4       4    9.571818   0.686667  14.511903  0.604762\n",
       "..    ...         ...        ...        ...       ...\n",
       "95     95    1.246070   0.964444   6.192237  0.847619\n",
       "96     96    1.160803   0.973333   6.449616  0.847619\n",
       "97     97    1.928639   0.942222  13.643195  0.695238\n",
       "98     98    1.235776   0.955556   4.318785  0.880952\n",
       "99     99    0.824093   0.973333   3.701749  0.904762\n",
       "\n",
       "[100 rows x 5 columns]"
      ]
     },
     "execution_count": 11,
     "metadata": {},
     "output_type": "execute_result"
    }
   ],
   "source": [
    "df"
   ]
  },
  {
   "cell_type": "code",
   "execution_count": 12,
   "metadata": {},
   "outputs": [
    {
     "data": {
      "image/png": "[encoded data removed]",
      "text/plain": [
       "<Figure size 720x360 with 1 Axes>"
      ]
     },
     "metadata": {
      "needs_background": "light"
     },
     "output_type": "display_data"
    },
    {
     "data": {
      "image/png": "[encoded data removed]",
      "text/plain": [
       "<Figure size 720x360 with 1 Axes>"
      ]
     },
     "metadata": {
      "needs_background": "light"
     },
     "output_type": "display_data"
    }
   ],
   "source": [
    "import pandas as pd\n",
    "import matplotlib.pyplot as plt\n",
    "\n",
    "# Load data from CSV into a DataFrame\n",
    "\n",
    "\n",
    "# Plot training and validation loss\n",
    "plt.figure(figsize=(10, 5))\n",
    "plt.plot(df['epoch'], df['train_loss'], label='Training Loss', marker='o')\n",
    "plt.plot(df['epoch'], df['val_loss'], label='Validation Loss', marker='o')\n",
    "plt.xlabel('Epoch')\n",
    "plt.ylabel('Loss')\n",
    "plt.title('Training and Validation Loss Over Epochs')\n",
    "plt.legend()\n",
    "plt.grid(True)\n",
    "\n",
    "# Create a separate figure for accuracy\n",
    "plt.figure(figsize=(10, 5))\n",
    "plt.plot(df['epoch'], df['train_acc'], label='Training Accuracy', marker='o')\n",
    "plt.plot(df['epoch'], df['val_acc'], label='Validation Accuracy', marker='o', color='orange')\n",
    "plt.xlabel('Epoch')\n",
    "plt.ylabel('Accuracy')\n",
    "plt.title('Training and Validation Accuracy Over Epochs')\n",
    "plt.legend()\n",
    "plt.grid(True)\n",
    "\n",
    "plt.show()"
   ]
  },
  {
   "cell_type": "code",
   "execution_count": null,
   "metadata": {},
   "outputs": [],
   "source": []
  }
 ],
 "metadata": {
  "kernelspec": {
   "display_name": "base",
   "language": "python",
   "name": "python3"
  },
  "language_info": {
   "codemirror_mode": {
    "name": "ipython",
    "version": 3
   },
   "file_extension": ".py",
   "mimetype": "text/x-python",
   "name": "python",
   "nbconvert_exporter": "python",
   "pygments_lexer": "ipython3",
   "version": "3.9.7"
  },
  "orig_nbformat": 4
 },
 "nbformat": 4,
 "nbformat_minor": 2
}
